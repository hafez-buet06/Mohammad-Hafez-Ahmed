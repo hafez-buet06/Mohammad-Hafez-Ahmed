{
  "nbformat": 4,
  "nbformat_minor": 0,
  "metadata": {
    "colab": {
      "name": "MyFirstColabNotebook.ipynb",
      "provenance": [],
      "authorship_tag": "ABX9TyPgmRcfOKez3gR3lb8lgVdQ",
      "include_colab_link": true
    },
    "kernelspec": {
      "name": "python3",
      "display_name": "Python 3"
    }
  },
  "cells": [
    {
      "cell_type": "markdown",
      "metadata": {
        "id": "view-in-github",
        "colab_type": "text"
      },
      "source": [
        "<a href=\"https://colab.research.google.com/github/hafez-buet06/Mohammad-Hafez-Ahmed/blob/master/MyFirstColabNotebook.ipynb\" target=\"_parent\"><img src=\"https://colab.research.google.com/assets/colab-badge.svg\" alt=\"Open In Colab\"/></a>"
      ]
    },
    {
      "cell_type": "markdown",
      "metadata": {
        "id": "Jnhbj97Tctd7",
        "colab_type": "text"
      },
      "source": [
        "# Homework no: 01; Name: **Mohammad Hafez Ahmed**; ID: *800 231 626*; Dept: CEE, WVU"
      ]
    },
    {
      "cell_type": "code",
      "metadata": {
        "id": "e_c8pzzfZc6Z",
        "colab_type": "code",
        "colab": {}
      },
      "source": [
        "import time\n",
        "print(time.ctime())\n",
        "import pandas as pd\n"
      ],
      "execution_count": null,
      "outputs": []
    },
    {
      "cell_type": "code",
      "metadata": {
        "id": "x9jGpIM5ddNJ",
        "colab_type": "code",
        "colab": {}
      },
      "source": [
        "import numpy as np\n",
        "time.sleep(5)\n",
        "print(time.ctime())"
      ],
      "execution_count": null,
      "outputs": []
    },
    {
      "cell_type": "markdown",
      "metadata": {
        "id": "mEcN9N01gdok",
        "colab_type": "text"
      },
      "source": [
        "Constraints writing as equations:\n",
        "- $3x_1 + 6x_2 + x_3 =< 28$ \n",
        "- $7x_1 +3x_2 + 2x_3 =< 37$\n",
        "- $4x_1 + 5x_2 + 2x_3 =< 19$\n",
        "- $x_1,x_2,x_3 >=0 $\n",
        "\n",
        "The trial vector is calculated as follows:\n",
        "- $u_i(t) = x_i(t) + \\beta(\\hat{x}(t) − x_i(t)) + \\beta \\sum_{k = 1}^{n_v}(x_{i1,k}(t) − x_{i2,k}(t))$\n",
        "$f(x_1, x_2) = 20 + e - 20exp(-0.2 \\sqrt {\\frac {1}{n} (x_1^2 + x_2^2)}) - exp (\\frac {1}{n}(cos(2\\pi x_1) + cos(2\\pi x_2))$\n",
        "\n",
        "$x ∈ [-5, 5]$\n",
        ">$A_{m,n} =\n",
        "   \\begin{pmatrix}\n",
        "   a_{1,1} > a_{1,2} > \\cdots > a_{1,n} \\\\\n",
        "   a_{2,1} > a_{2,2} > \\cdots > a_{2,n} \\\\\n",
        "   \\vdots > \\vdots > \\ddots > \\vdots \\\\\n",
        "   a_{m,1} > a_{m,2} > \\cdots > a_{m,n}\n",
        "   \\end{pmatrix}$\n",
        "\n",
        "$e^x = 1+ \\frac {x}{1!} + \\frac {x^2}{2!} +\\frac {x^3}{3!} + \\cdots + \\frac {x^n}{n!} $"
      ]
    },
    {
      "cell_type": "code",
      "metadata": {
        "id": "hQyKBqa4nIkQ",
        "colab_type": "code",
        "colab": {}
      },
      "source": [
        ""
      ],
      "execution_count": null,
      "outputs": []
    }
  ]
}